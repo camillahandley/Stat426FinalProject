{
 "cells": [
  {
   "cell_type": "markdown",
   "metadata": {},
   "source": [
    "# Movie Profit "
   ]
  },
  {
   "cell_type": "markdown",
   "metadata": {},
   "source": [
    "   My question of interest was how to predict the gross profit that movies make. I've always been interested in the movie industry and especially curious about how the Covid pandemic will affect the profit and popularity of the movie industry. In this analysis I will consider predictors such as genre, production budget, rating, season and year of release, and the number of theaters played in. "
   ]
  },
  {
   "cell_type": "markdown",
   "metadata": {},
   "source": [
    "The data for this analysis was taken from two different sources. One of which was the website www.boxofficemojo.com, which provided the name of the movie, the gross profit and the number of theaters the movie was played in. It had other information but for the purposes of this analysis, I just used those mentioned. To add to this data, I used a Kaggle dataset that contained movie data dating all the back to the late 1980's up to 2016. This was fun to look at in graphs, but for the purposes of this analysis I only used data from 2012-2016. The dataset included the production budget, genre, rating and release date. "
   ]
  },
  {
   "cell_type": "markdown",
   "metadata": {},
   "source": [
    "There was some data wrangling that I had to do in order to get the data into a clean form for analysis. I took out missing observations as well as created dummy variables for categorical variables and scaled all features. \n",
    "\n",
    "In my exploratory analysis, I saw that in general, gross profit has been steadily increasing since 1985. It appears that G-rated movies make more on average than PG, PG-13 and R rated movies. Animation movies make more on average than any other genre. Additionally, it appears that there is a slight correlation between production budget and profit. "
   ]
  },
  {
   "cell_type": "markdown",
   "metadata": {},
   "source": [
    "Before modeling, I split the data into a test and a training set. The training set was composed of all the data from 2012-2015 and the test set was all the 2016 data. I tried three different machine learning techniques: Linear Regression, Lasso Regression and K Nearest Neighbors Regression. Measuring by Root Mean Square Error and accuracy score, K Nearest Neighbors performed the best. "
   ]
  },
  {
   "cell_type": "markdown",
   "metadata": {},
   "source": [
    "Continuing the analysis using KNN Regression, I tested various different values for the number of neighbors and concluded that 5 optimizes MSE. I think fit this model using the training data and predicted profit for 2016 movies. \n",
    "\n",
    "On average our predictions were 6,153,799.44 dollars lower than the actual values. Considering that the standard deviation of Gross Profit in 2016 was 92,494,185.38 dollars, our predictions put us well within a 10th of a standard deviation. I consider this to be very good!\n",
    "\n",
    "The movie that had the largest over-prediction was Kubo and the Two Strings and the movie that had the largest under-prediction was Finding Dory. I have seen both these movies and love them both! However, using this particular model, it did not do a very good job of predicting profit for these movies. "
   ]
  },
  {
   "cell_type": "markdown",
   "metadata": {},
   "source": [
    "Overall, this model did a fairly good job of predicting gross profit in 2016. We did have some limitations however. There are various other variables that could be considered as predictors such as Producer, Running time, Writer, Actors and many more. This dataset was also limited to movies that were included in both datasets. There is a lot more data that can be used in this type of analysis. \n"
   ]
  },
  {
   "cell_type": "markdown",
   "metadata": {},
   "source": [
    "If one were to collect more data and add more variables (and possibly eliminate a few) one could create a better model for predicting gross profit. Then you could look at which variables are most important or which are expected to bring the biggest increase in profit. This could help the movie industry in a time like this when most theaters remain closed and help them think of creative ways to release movies and still gain profit. "
   ]
  },
  {
   "cell_type": "code",
   "execution_count": null,
   "metadata": {},
   "outputs": [],
   "source": []
  }
 ],
 "metadata": {
  "kernelspec": {
   "display_name": "Python 3",
   "language": "python",
   "name": "python3"
  },
  "language_info": {
   "codemirror_mode": {
    "name": "ipython",
    "version": 3
   },
   "file_extension": ".py",
   "mimetype": "text/x-python",
   "name": "python",
   "nbconvert_exporter": "python",
   "pygments_lexer": "ipython3",
   "version": "3.7.6"
  }
 },
 "nbformat": 4,
 "nbformat_minor": 4
}
